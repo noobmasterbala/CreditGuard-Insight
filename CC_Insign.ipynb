{
  "cells": [
    {
      "cell_type": "markdown",
      "metadata": {
        "id": "view-in-github"
      },
      "source": [
        "<a href=\"https://colab.research.google.com/github/sidhusmart/Uplimit_Langchain_Course/blob/main/Week1/Langchain_Week1_Project.ipynb\" target=\"_parent\"><img src=\"https://colab.research.google.com/assets/colab-badge.svg\" alt=\"Open In Colab\"/></a>"
      ]
    },
    {
      "cell_type": "code",
      "execution_count": null,
      "metadata": {
        "colab": {
          "base_uri": "https://localhost:8080/"
        },
        "collapsed": true,
        "id": "JbQIsr6r6kOq",
        "outputId": "114380fd-a010-4d4a-c12f-676e6da374fb"
      },
      "outputs": [
        {
          "name": "stdout",
          "output_type": "stream",
          "text": [
            "\u001b[2K     \u001b[90m━━━━━━━━━━━━━━━━━━━━━━━━━━━━━━━━━━━━━━━━\u001b[0m \u001b[32m50.4/50.4 kB\u001b[0m \u001b[31m903.0 kB/s\u001b[0m eta \u001b[36m0:00:00\u001b[0m\n",
            "\u001b[2K     \u001b[90m━━━━━━━━━━━━━━━━━━━━━━━━━━━━━━━━━━━━━━━━\u001b[0m \u001b[32m67.3/67.3 kB\u001b[0m \u001b[31m2.5 MB/s\u001b[0m eta \u001b[36m0:00:00\u001b[0m\n",
            "\u001b[?25h  Installing build dependencies ... \u001b[?25l\u001b[?25hdone\n",
            "  Getting requirements to build wheel ... \u001b[?25l\u001b[?25hdone\n",
            "  Preparing metadata (pyproject.toml) ... \u001b[?25l\u001b[?25hdone\n",
            "\u001b[2K   \u001b[90m━━━━━━━━━━━━━━━━━━━━━━━━━━━━━━━━━━━━━━━━\u001b[0m \u001b[32m990.6/990.6 kB\u001b[0m \u001b[31m8.4 MB/s\u001b[0m eta \u001b[36m0:00:00\u001b[0m\n",
            "\u001b[2K   \u001b[90m━━━━━━━━━━━━━━━━━━━━━━━━━━━━━━━━━━━━━━━━\u001b[0m \u001b[32m2.3/2.3 MB\u001b[0m \u001b[31m30.9 MB/s\u001b[0m eta \u001b[36m0:00:00\u001b[0m\n",
            "\u001b[2K   \u001b[90m━━━━━━━━━━━━━━━━━━━━━━━━━━━━━━━━━━━━━━━━\u001b[0m \u001b[32m48.2/48.2 kB\u001b[0m \u001b[31m2.5 MB/s\u001b[0m eta \u001b[36m0:00:00\u001b[0m\n",
            "\u001b[2K   \u001b[90m━━━━━━━━━━━━━━━━━━━━━━━━━━━━━━━━━━━━━━━━\u001b[0m \u001b[32m85.5/85.5 MB\u001b[0m \u001b[31m7.7 MB/s\u001b[0m eta \u001b[36m0:00:00\u001b[0m\n",
            "\u001b[2K   \u001b[90m━━━━━━━━━━━━━━━━━━━━━━━━━━━━━━━━━━━━━━━━\u001b[0m \u001b[32m3.5/3.5 MB\u001b[0m \u001b[31m52.8 MB/s\u001b[0m eta \u001b[36m0:00:00\u001b[0m\n",
            "\u001b[2K   \u001b[90m━━━━━━━━━━━━━━━━━━━━━━━━━━━━━━━━━━━━━━━━\u001b[0m \u001b[32m15.9/15.9 MB\u001b[0m \u001b[31m53.7 MB/s\u001b[0m eta \u001b[36m0:00:00\u001b[0m\n",
            "\u001b[2K   \u001b[90m━━━━━━━━━━━━━━━━━━━━━━━━━━━━━━━━━━━━━━━━\u001b[0m \u001b[32m41.8/41.8 kB\u001b[0m \u001b[31m2.3 MB/s\u001b[0m eta \u001b[36m0:00:00\u001b[0m\n",
            "\u001b[2K   \u001b[90m━━━━━━━━━━━━━━━━━━━━━━━━━━━━━━━━━━━━━━━━\u001b[0m \u001b[32m12.5/12.5 MB\u001b[0m \u001b[31m47.1 MB/s\u001b[0m eta \u001b[36m0:00:00\u001b[0m\n",
            "\u001b[2K   \u001b[90m━━━━━━━━━━━━━━━━━━━━━━━━━━━━━━━━━━━━━━━━\u001b[0m \u001b[32m318.6/318.6 kB\u001b[0m \u001b[31m17.8 MB/s\u001b[0m eta \u001b[36m0:00:00\u001b[0m\n",
            "\u001b[2K   \u001b[90m━━━━━━━━━━━━━━━━━━━━━━━━━━━━━━━━━━━━━━━━\u001b[0m \u001b[32m584.3/584.3 kB\u001b[0m \u001b[31m25.7 MB/s\u001b[0m eta \u001b[36m0:00:00\u001b[0m\n",
            "\u001b[2K   \u001b[90m━━━━━━━━━━━━━━━━━━━━━━━━━━━━━━━━━━━━━━━━\u001b[0m \u001b[32m2.4/2.4 MB\u001b[0m \u001b[31m49.5 MB/s\u001b[0m eta \u001b[36m0:00:00\u001b[0m\n",
            "\u001b[2K   \u001b[90m━━━━━━━━━━━━━━━━━━━━━━━━━━━━━━━━━━━━━━━━\u001b[0m \u001b[32m93.1/93.1 kB\u001b[0m \u001b[31m6.0 MB/s\u001b[0m eta \u001b[36m0:00:00\u001b[0m\n",
            "\u001b[2K   \u001b[90m━━━━━━━━━━━━━━━━━━━━━━━━━━━━━━━━━━━━━━━━\u001b[0m \u001b[32m75.6/75.6 kB\u001b[0m \u001b[31m4.8 MB/s\u001b[0m eta \u001b[36m0:00:00\u001b[0m\n",
            "\u001b[2K   \u001b[90m━━━━━━━━━━━━━━━━━━━━━━━━━━━━━━━━━━━━━━━━\u001b[0m \u001b[32m77.9/77.9 kB\u001b[0m \u001b[31m5.0 MB/s\u001b[0m eta \u001b[36m0:00:00\u001b[0m\n",
            "\u001b[2K   \u001b[90m━━━━━━━━━━━━━━━━━━━━━━━━━━━━━━━━━━━━━━━━\u001b[0m \u001b[32m379.9/379.9 kB\u001b[0m \u001b[31m22.6 MB/s\u001b[0m eta \u001b[36m0:00:00\u001b[0m\n",
            "\u001b[2K   \u001b[90m━━━━━━━━━━━━━━━━━━━━━━━━━━━━━━━━━━━━━━━━\u001b[0m \u001b[32m140.1/140.1 kB\u001b[0m \u001b[31m9.0 MB/s\u001b[0m eta \u001b[36m0:00:00\u001b[0m\n",
            "\u001b[2K   \u001b[90m━━━━━━━━━━━━━━━━━━━━━━━━━━━━━━━━━━━━━━━━\u001b[0m \u001b[32m335.9/335.9 kB\u001b[0m \u001b[31m19.3 MB/s\u001b[0m eta \u001b[36m0:00:00\u001b[0m\n",
            "\u001b[2K   \u001b[90m━━━━━━━━━━━━━━━━━━━━━━━━━━━━━━━━━━━━━━━━\u001b[0m \u001b[32m141.1/141.1 kB\u001b[0m \u001b[31m9.3 MB/s\u001b[0m eta \u001b[36m0:00:00\u001b[0m\n",
            "\u001b[2K   \u001b[90m━━━━━━━━━━━━━━━━━━━━━━━━━━━━━━━━━━━━━━━━\u001b[0m \u001b[32m10.2/10.2 MB\u001b[0m \u001b[31m61.2 MB/s\u001b[0m eta \u001b[36m0:00:00\u001b[0m\n",
            "\u001b[2K   \u001b[90m━━━━━━━━━━━━━━━━━━━━━━━━━━━━━━━━━━━━━━━━\u001b[0m \u001b[32m1.1/1.1 MB\u001b[0m \u001b[31m43.2 MB/s\u001b[0m eta \u001b[36m0:00:00\u001b[0m\n",
            "\u001b[2K   \u001b[90m━━━━━━━━━━━━━━━━━━━━━━━━━━━━━━━━━━━━━━━━\u001b[0m \u001b[32m62.8/62.8 kB\u001b[0m \u001b[31m3.7 MB/s\u001b[0m eta \u001b[36m0:00:00\u001b[0m\n",
            "\u001b[2K   \u001b[90m━━━━━━━━━━━━━━━━━━━━━━━━━━━━━━━━━━━━━━━━\u001b[0m \u001b[32m273.8/273.8 kB\u001b[0m \u001b[31m16.2 MB/s\u001b[0m eta \u001b[36m0:00:00\u001b[0m\n",
            "\u001b[2K   \u001b[90m━━━━━━━━━━━━━━━━━━━━━━━━━━━━━━━━━━━━━━━━\u001b[0m \u001b[32m58.3/58.3 kB\u001b[0m \u001b[31m3.7 MB/s\u001b[0m eta \u001b[36m0:00:00\u001b[0m\n",
            "\u001b[2K   \u001b[90m━━━━━━━━━━━━━━━━━━━━━━━━━━━━━━━━━━━━━━━━\u001b[0m \u001b[32m1.7/1.7 MB\u001b[0m \u001b[31m54.3 MB/s\u001b[0m eta \u001b[36m0:00:00\u001b[0m\n",
            "\u001b[2K   \u001b[90m━━━━━━━━━━━━━━━━━━━━━━━━━━━━━━━━━━━━━━━━\u001b[0m \u001b[32m49.2/49.2 kB\u001b[0m \u001b[31m2.9 MB/s\u001b[0m eta \u001b[36m0:00:00\u001b[0m\n",
            "\u001b[2K   \u001b[90m━━━━━━━━━━━━━━━━━━━━━━━━━━━━━━━━━━━━━━━━\u001b[0m \u001b[32m67.6/67.6 kB\u001b[0m \u001b[31m3.9 MB/s\u001b[0m eta \u001b[36m0:00:00\u001b[0m\n",
            "\u001b[2K   \u001b[90m━━━━━━━━━━━━━━━━━━━━━━━━━━━━━━━━━━━━━━━━\u001b[0m \u001b[32m6.8/6.8 MB\u001b[0m \u001b[31m56.3 MB/s\u001b[0m eta \u001b[36m0:00:00\u001b[0m\n",
            "\u001b[2K   \u001b[90m━━━━━━━━━━━━━━━━━━━━━━━━━━━━━━━━━━━━━━━━\u001b[0m \u001b[32m61.5/61.5 kB\u001b[0m \u001b[31m3.8 MB/s\u001b[0m eta \u001b[36m0:00:00\u001b[0m\n",
            "\u001b[2K   \u001b[90m━━━━━━━━━━━━━━━━━━━━━━━━━━━━━━━━━━━━━━━━\u001b[0m \u001b[32m52.5/52.5 kB\u001b[0m \u001b[31m3.1 MB/s\u001b[0m eta \u001b[36m0:00:00\u001b[0m\n",
            "\u001b[2K   \u001b[90m━━━━━━━━━━━━━━━━━━━━━━━━━━━━━━━━━━━━━━━━\u001b[0m \u001b[32m138.0/138.0 kB\u001b[0m \u001b[31m8.4 MB/s\u001b[0m eta \u001b[36m0:00:00\u001b[0m\n",
            "\u001b[2K   \u001b[90m━━━━━━━━━━━━━━━━━━━━━━━━━━━━━━━━━━━━━━━━\u001b[0m \u001b[32m109.5/109.5 kB\u001b[0m \u001b[31m6.2 MB/s\u001b[0m eta \u001b[36m0:00:00\u001b[0m\n",
            "\u001b[2K   \u001b[90m━━━━━━━━━━━━━━━━━━━━━━━━━━━━━━━━━━━━━━━━\u001b[0m \u001b[32m41.3/41.3 kB\u001b[0m \u001b[31m2.5 MB/s\u001b[0m eta \u001b[36m0:00:00\u001b[0m\n",
            "\u001b[2K   \u001b[90m━━━━━━━━━━━━━━━━━━━━━━━━━━━━━━━━━━━━━━━━\u001b[0m \u001b[32m71.9/71.9 kB\u001b[0m \u001b[31m4.3 MB/s\u001b[0m eta \u001b[36m0:00:00\u001b[0m\n",
            "\u001b[2K   \u001b[90m━━━━━━━━━━━━━━━━━━━━━━━━━━━━━━━━━━━━━━━━\u001b[0m \u001b[32m130.2/130.2 kB\u001b[0m \u001b[31m8.0 MB/s\u001b[0m eta \u001b[36m0:00:00\u001b[0m\n",
            "\u001b[2K   \u001b[90m━━━━━━━━━━━━━━━━━━━━━━━━━━━━━━━━━━━━━━━━\u001b[0m \u001b[32m341.4/341.4 kB\u001b[0m \u001b[31m14.8 MB/s\u001b[0m eta \u001b[36m0:00:00\u001b[0m\n",
            "\u001b[2K   \u001b[90m━━━━━━━━━━━━━━━━━━━━━━━━━━━━━━━━━━━━━━━━\u001b[0m \u001b[32m3.4/3.4 MB\u001b[0m \u001b[31m55.6 MB/s\u001b[0m eta \u001b[36m0:00:00\u001b[0m\n",
            "\u001b[2K   \u001b[90m━━━━━━━━━━━━━━━━━━━━━━━━━━━━━━━━━━━━━━━━\u001b[0m \u001b[32m1.2/1.2 MB\u001b[0m \u001b[31m36.1 MB/s\u001b[0m eta \u001b[36m0:00:00\u001b[0m\n",
            "\u001b[2K   \u001b[90m━━━━━━━━━━━━━━━━━━━━━━━━━━━━━━━━━━━━━━━━\u001b[0m \u001b[32m46.0/46.0 kB\u001b[0m \u001b[31m2.3 MB/s\u001b[0m eta \u001b[36m0:00:00\u001b[0m\n",
            "\u001b[2K   \u001b[90m━━━━━━━━━━━━━━━━━━━━━━━━━━━━━━━━━━━━━━━━\u001b[0m \u001b[32m86.8/86.8 kB\u001b[0m \u001b[31m5.5 MB/s\u001b[0m eta \u001b[36m0:00:00\u001b[0m\n",
            "\u001b[?25h  Building wheel for pypika (pyproject.toml) ... \u001b[?25l\u001b[?25hdone\n"
          ]
        }
      ],
      "source": [
        "# Install the necessary libraries to get it out of the way\n",
        "%pip install --upgrade --quiet  langchain langchain-community langchainhub langchain-openai langchain-chroma faiss-gpu pymupdf grandalf gradio"
      ]
    },
    {
      "cell_type": "code",
      "execution_count": null,
      "metadata": {
        "colab": {
          "base_uri": "https://localhost:8080/"
        },
        "id": "n2nJ6tyN7758",
        "outputId": "296b84f6-0629-4092-bf04-74b7cf74df3c"
      },
      "outputs": [
        {
          "name": "stdout",
          "output_type": "stream",
          "text": [
            "Content of Page 3:\n",
            "3\n",
            "THE AMERICAN EXPRESS® GOLD CARD INSURANCE  \n",
            "TERMS AND CONDITIONS\n",
            "American Express® Gold Charge Card Insurance\n",
            "Policy Number: 09NACGOLD1\n",
            "Cover is effective from 1 December 2020\n",
            "Before You Travel…\n",
            "•\t \u0007\n",
            "This booklet contains important information about Your American \n",
            "Express Gold Card insurance. You should read it carefully and keep it \n",
            "in a safe place.\n",
            "•\t \u0007\n",
            "We recommend that You take a copy with You when You travel.  \n",
            "You can also access a copy online any time by going to  \n",
            "americanexpress.co.nz/goldinsurance.\n",
            "•\t \u0007\n",
            "If You need to purchase any essential items because of a delay or lost \n",
            "luggage, make sure You use Your American Express Gold Card for all \n",
            "purchases.\n",
            "•\t \u0007\n",
            "If You need to make a claim, keep detailed particulars and proof of \n",
            "any loss including all police reports, sales receipts and credit card \n",
            "statements showing any purchases made.\n",
            "•\t \u0007\n",
            "If You have any questions about what is covered and what is not, \n",
            "please call 0800 703 702\n",
            "ACTIVATING YOUR COVER\n",
            "In order to be eligible for these insurance benefits and to activate Your \n",
            "cover, You must use Your American Express Gold Card in accordance \n",
            "with the Activation of Insurance table on page 5.\n",
            "\n",
            "Metadata of Page 3:\n",
            "{'source': '/content/Goldinsurance.pdf', 'file_path': '/content/Goldinsurance.pdf', 'page': 2, 'total_pages': 36, 'format': 'PDF 1.6', 'title': '', 'author': '', 'subject': '', 'keywords': '', 'creator': 'Adobe InDesign 16.0 (Macintosh)', 'producer': 'Adobe PDF Library 15.0', 'creationDate': \"D:20210325124053+11'00'\", 'modDate': \"D:20210325124129+11'00'\", 'trapped': ''}\n"
          ]
        }
      ],
      "source": [
        "## Your code here\n",
        "from langchain.document_loaders import PyMuPDFLoader\n",
        "\n",
        "\n",
        "pdf_path = \"/content/Goldinsurance.pdf\"\n",
        "loader = PyMuPDFLoader(pdf_path)\n",
        "documents = loader.load()\n",
        "page_number = 2\n",
        "num_pages = len(documents)\n",
        "\n",
        "if 0 <= page_number < num_pages:\n",
        "    print(f\"Content of Page {page_number + 1}:\")\n",
        "    print(documents[page_number].page_content)\n",
        "    print(f\"Metadata of Page {page_number + 1}:\")\n",
        "    print(documents[page_number].metadata)"
      ]
    },
    {
      "cell_type": "code",
      "execution_count": null,
      "metadata": {
        "colab": {
          "base_uri": "https://localhost:8080/"
        },
        "id": "4xMZXPdM9fae",
        "outputId": "c9576bed-455e-4b65-b14a-f46318437013"
      },
      "outputs": [
        {
          "name": "stdout",
          "output_type": "stream",
          "text": [
            "['AND TRAVEL INSURANCE COVER (SECTION B–F)\\nCover is effective for each Trip only when:\\n(a) You pay the full fare for a return Trip on Your American Express Gold Card; \\nor\\n(b) You pay using American Express Membership Rewards points; or\\n(c) You use Your Travel Benefit.']\n"
          ]
        }
      ],
      "source": [
        "from langchain.text_splitter import RecursiveCharacterTextSplitter\n",
        "\n",
        "text_splitter = RecursiveCharacterTextSplitter(\n",
        "    chunk_size=300,\n",
        "    chunk_overlap=70\n",
        ")\n",
        "\n",
        "all_text = \" \".join([doc.page_content for doc in documents])\n",
        "\n",
        "chunks = text_splitter.split_text(all_text)\n",
        "print(chunks[10:11])"
      ]
    },
    {
      "cell_type": "code",
      "execution_count": null,
      "metadata": {
        "id": "UBVkp6TbaZDr"
      },
      "outputs": [],
      "source": [
        "from langchain_openai import ChatOpenAI, OpenAIEmbeddings\n",
        "from google.colab import userdata\n",
        "\n",
        "embedding_model = OpenAIEmbeddings(model='text-embedding-3-small', openai_api_key=userdata.get('OPENAI_API_KEY'))"
      ]
    },
    {
      "cell_type": "code",
      "execution_count": null,
      "metadata": {
        "id": "NDV_HnMFFJfb"
      },
      "outputs": [],
      "source": [
        "from langchain_community.vectorstores import FAISS\n",
        "\n",
        "vector_store = FAISS.from_texts(texts=chunks, embedding=embedding_model)"
      ]
    },
    {
      "cell_type": "markdown",
      "metadata": {
        "id": "_nI7cwlNdiBr"
      },
      "source": [
        "We have our documents indexed and we can directly start retrieving documents based on a similarity search with a target query."
      ]
    },
    {
      "cell_type": "code",
      "execution_count": null,
      "metadata": {
        "colab": {
          "base_uri": "https://localhost:8080/"
        },
        "id": "x1_wRhCQJBLJ",
        "outputId": "c96ad879-4e59-48ad-88b5-ed9bb3b52740"
      },
      "outputs": [
        {
          "data": {
            "text/plain": [
              "[(Document(page_content='Provides cover for Your \\nliability for damages for \\nInjury to any person or \\ndamage or accidental loss \\nto property.\\nUp to $1,000,000\\n•\\t\\nInjury or loss of \\nor damage to \\nmaterial property \\narising directly \\nor indirectly out \\nof the ownership, \\npossession, \\ncontrol or use by \\nYou or on Your \\nbehalf'),\n",
              "  0.2729379504489995),\n",
              " (Document(page_content='hundred and sixty five (365) \\nday period;\\n•\\t\\n$2,500 per event.\\n$50 Excess for each and every \\nclaim\\n•\\t\\n Eligible Items left \\nUnattended in a \\nPublic Place\\n•\\t\\nEligible Items left \\nin an Unattended \\nmotor vehicle\\nBUYERS ADVANTAGE COVER\\nH\\nBuyer’s Advantage Cover\\nProvides cover for the'),\n",
              "  0.21918015093553633),\n",
              " (Document(page_content='SUM INSURED\\nKEY EXCLUSIONS\\nD\\nBaggage, Money and \\nDocuments\\nProvides cover for \\ndamaged, destroyed, lost \\nor stolen Personal Baggage \\nor Money and Documents \\nduring Your Trip.\\nUp to $10,000 in total in any one \\n(1) three hundred and sixty five \\n(365) day period for:\\n(a)'),\n",
              "  0.20472976674878818),\n",
              " (Document(page_content='The amount of cover varies \\nfor each benefit.\\n•\\t\\nAdditional hotel \\naccommodation and \\nrestaurant meals or \\nrefreshments up to $200 \\n•\\t\\nEmergency purchase of \\nessential clothing and items up \\nto $500\\n•\\t\\nLuggage delay on \\nYour arrival back in \\nNew Zealand\\n•\\t\\nThe purchase of \\nessential items'),\n",
              "  0.20356853677861608)]"
            ]
          },
          "execution_count": 9,
          "metadata": {},
          "output_type": "execute_result"
        }
      ],
      "source": [
        "search_result = vector_store.similarity_search_with_relevance_scores(query=\"How much is covered in rental insurance?\", k=4)\n",
        "search_result"
      ]
    },
    {
      "cell_type": "markdown",
      "metadata": {
        "id": "H_MbjNwSaEOn"
      },
      "source": [
        "### Creating the QnA RAG chain"
      ]
    },
    {
      "cell_type": "markdown",
      "metadata": {
        "id": "9gZ9PllRN9VZ"
      },
      "source": []
    },
    {
      "cell_type": "code",
      "execution_count": null,
      "metadata": {
        "colab": {
          "base_uri": "https://localhost:8080/",
          "height": 140
        },
        "id": "5cv_Fi0IPfn5",
        "outputId": "4438fc7e-9147-4061-d7c6-acddbbb90104"
      },
      "outputs": [
        {
          "data": {
            "application/vnd.google.colaboratory.intrinsic+json": {
              "type": "string"
            },
            "text/plain": [
              "\"To make a claim under the terms and conditions of the credit card, you should submit your claim within twenty (20) days after the covered loss occurs or as soon as reasonably possible after that. Benefits will be paid once you provide written proof of the legitimate covered loss. You need to provide proof of purchase for the items you are claiming. If you can't provide proof of purchase, your claim may not be paid, and this decision will be made at the discretion of the credit card company. To support your claims, you must provide the original purchase receipt or alternative written proof of the purchase price. Make sure to keep copies of all the documents you send to the Claims Handler. Additionally, disclose all relevant information about the claim, including details of any other insurance cover you may have for the same claim.\""
            ]
          },
          "execution_count": 10,
          "metadata": {},
          "output_type": "execute_result"
        }
      ],
      "source": [
        "from langchain_core.prompts import ChatPromptTemplate\n",
        "from langchain.prompts import SystemMessagePromptTemplate\n",
        "from langchain.prompts import HumanMessagePromptTemplate\n",
        "from langchain_core.output_parsers import StrOutputParser\n",
        "from langchain_core.runnables import RunnablePassthrough\n",
        "from operator import itemgetter\n",
        "\n",
        "qna_prompt = \"\"\"\n",
        "You are an expert credit card specialist who can read and understand the information from credit card information leaflets.\n",
        "Please use that to answer any questions that are asked.\n",
        "Please explain in an easy to understand language for average people.\n",
        "If you can't answer the question, please say so, don't try to make up an answer.\n",
        "\n",
        "You are provided with the Question and Context below to help you answer the question.\n",
        "\n",
        "Question: {question}\n",
        "Context: {context}\n",
        "Answer:\n",
        "\"\"\"\n",
        "\n",
        "\n",
        "qna_prompt_template = ChatPromptTemplate.from_messages(\n",
        "    [\n",
        "    SystemMessagePromptTemplate.from_template(\"You are a helpful AI assistant.\"),\n",
        "    HumanMessagePromptTemplate.from_template(qna_prompt),\n",
        "    ]\n",
        ")\n",
        "\n",
        "LLM = ChatOpenAI(model_name=\"gpt-3.5-turbo\",\n",
        "                 temperature=0,\n",
        "                 openai_api_key=userdata.get('OPENAI_API_KEY'))\n",
        "\n",
        "retriever = vector_store.as_retriever()\n",
        "\n",
        "def format_docs(docs):\n",
        "    return \"\\n\\n\".join(doc.page_content for doc in docs) # only retrive page_content, no need others info\n",
        "\n",
        "# Chain (2 chains, one chain within the outer chain, the inner chain is retrieval part)\n",
        "rag_chain = (\n",
        "    {\"context\": itemgetter(\"input\") | retriever | format_docs, # another chain CECL format\n",
        "     # take input from user, pipe to retriever (use vector store) and format\n",
        "     # this overall from above take care of one elment of RAG chain\n",
        "     \"question\": RunnablePassthrough()}\n",
        "    # below qna_prompt_template gets 2 inputs: context (results from the above pipe), and question (get directly from the original prompt)\n",
        "    | qna_prompt_template\n",
        "    | LLM\n",
        "    | StrOutputParser() # to make sure only take text out\n",
        ")\n",
        "\n",
        "# Questions\n",
        "rag_chain.invoke({\"input\": \"How long does a claim take?\"})"
      ]
    },
    {
      "cell_type": "code",
      "execution_count": null,
      "metadata": {
        "id": "9-wDIb1gQI7E"
      },
      "outputs": [],
      "source": [
        "llm = ChatOpenAI(model_name=\"gpt-3.5-turbo\",\n",
        "                 temperature=0,\n",
        "                 openai_api_key=userdata.get('OPENAI_API_KEY'))"
      ]
    },
    {
      "cell_type": "code",
      "execution_count": null,
      "metadata": {
        "id": "hz_SleAiQrTi"
      },
      "outputs": [],
      "source": [
        "retriever = vector_store.as_retriever()"
      ]
    },
    {
      "cell_type": "code",
      "execution_count": null,
      "metadata": {
        "id": "b64wwSooQv2f"
      },
      "outputs": [],
      "source": [
        "def format_docs(docs):\n",
        "    return \"\\n\\n\".join(doc.page_content for doc in docs)"
      ]
    },
    {
      "cell_type": "code",
      "execution_count": null,
      "metadata": {
        "id": "VI7UOE70LleJ"
      },
      "outputs": [],
      "source": [
        "from operator import itemgetter\n",
        "from langchain_core.runnables import RunnablePassthrough\n",
        "from langchain_core.output_parsers import StrOutputParser\n",
        "\n",
        "rag_chain = (\n",
        "    {\"context\": itemgetter(\"input\") | retriever | format_docs,\n",
        "     \"question\": RunnablePassthrough()}\n",
        "    | qna_prompt_template\n",
        "    | llm\n",
        "    | StrOutputParser()\n",
        ")"
      ]
    },
    {
      "cell_type": "code",
      "execution_count": null,
      "metadata": {
        "colab": {
          "base_uri": "https://localhost:8080/",
          "height": 140
        },
        "id": "ftZIkyQISoAt",
        "outputId": "979fa7f7-08ab-4573-caf1-f6e33e5de6f8"
      },
      "outputs": [
        {
          "data": {
            "application/vnd.google.colaboratory.intrinsic+json": {
              "type": "string"
            },
            "text/plain": [
              "\"To get an insurance claim, you should contact Chubb Assistance. It's important to reach out to them as soon as a claim or potential claim arises. You need to contact them before incurring any expenses or as soon as physically possible. Make sure to disclose all relevant information about the claim, including details of any other insurance cover you may have. To support your claim, you will need to provide the original purchase receipt or other proof of the purchase price. Additionally, you must supply all original invoices, receipts, and reports to the Appointed Claims Handler and keep copies of the documents you send. Remember, providing this information is crucial for Chubb Assistance to handle your claim effectively. If you fail to provide the necessary information, they may not be able to assist you with your insurance claim or respond to any complaints or disputes.\""
            ]
          },
          "execution_count": 15,
          "metadata": {},
          "output_type": "execute_result"
        }
      ],
      "source": [
        "question = \"Who should I contact to get an insurance claim?\"\n",
        "rag_chain.invoke({\"input\": question})"
      ]
    },
    {
      "cell_type": "code",
      "execution_count": null,
      "metadata": {
        "colab": {
          "base_uri": "https://localhost:8080/"
        },
        "collapsed": true,
        "id": "l50o8HECL53q",
        "outputId": "32747440-db1f-48ac-eb7a-8dcb3aa961ad"
      },
      "outputs": [
        {
          "name": "stdout",
          "output_type": "stream",
          "text": [
            "           +---------------------------------+        \n",
            "           | Parallel<context,question>Input |        \n",
            "           +---------------------------------+        \n",
            "                    **              ***               \n",
            "                 ***                   **             \n",
            "               **                        ***          \n",
            "       +--------+                           **        \n",
            "       | Lambda |                            *        \n",
            "       +--------+                            *        \n",
            "            *                                *        \n",
            "            *                                *        \n",
            "            *                                *        \n",
            "+----------------------+                     *        \n",
            "| VectorStoreRetriever |                     *        \n",
            "+----------------------+                     *        \n",
            "            *                                *        \n",
            "            *                                *        \n",
            "            *                                *        \n",
            "    +-------------+                   +-------------+ \n",
            "    | format_docs |                   | Passthrough | \n",
            "    +-------------+*                  +-------------+ \n",
            "                    **              **                \n",
            "                      ***        ***                  \n",
            "                         **    **                     \n",
            "          +----------------------------------+        \n",
            "          | Parallel<context,question>Output |        \n",
            "          +----------------------------------+        \n",
            "                            *                         \n",
            "                            *                         \n",
            "                            *                         \n",
            "                  +--------------------+              \n",
            "                  | ChatPromptTemplate |              \n",
            "                  +--------------------+              \n",
            "                            *                         \n",
            "                            *                         \n",
            "                            *                         \n",
            "                      +------------+                  \n",
            "                      | ChatOpenAI |                  \n",
            "                      +------------+                  \n",
            "                            *                         \n",
            "                            *                         \n",
            "                            *                         \n",
            "                   +-----------------+                \n",
            "                   | StrOutputParser |                \n",
            "                   +-----------------+                \n",
            "                            *                         \n",
            "                            *                         \n",
            "                            *                         \n",
            "                +-----------------------+             \n",
            "                | StrOutputParserOutput |             \n",
            "                +-----------------------+             \n",
            "None\n"
          ]
        }
      ],
      "source": [
        "print (rag_chain.get_graph().print_ascii())"
      ]
    },
    {
      "cell_type": "code",
      "execution_count": null,
      "metadata": {
        "id": "WeuJlFzdOnBA"
      },
      "outputs": [],
      "source": [
        "import os\n",
        "os.environ['LANGCHAIN_TRACING_V2'] = 'true'\n",
        "os.environ['LANGCHAIN_ENDPOINT'] = \"https://api.smith.langchain.com\"\n",
        "os.environ['LANGCHAIN_API_KEY'] = userdata.get('LANGSMITH_API_KEY')\n",
        "os.environ['LANGCHAIN_PROJECT'] = \"pr-slight-variability-56\""
      ]
    },
    {
      "cell_type": "code",
      "execution_count": null,
      "metadata": {
        "colab": {
          "base_uri": "https://localhost:8080/",
          "height": 646
        },
        "id": "DDy0V7_eoEYt",
        "outputId": "3388b77d-84c7-49c2-c652-c978c658b6ea"
      },
      "outputs": [
        {
          "name": "stdout",
          "output_type": "stream",
          "text": [
            "Setting queue=True in a Colab notebook requires sharing enabled. Setting `share=True` (you can turn this off by setting `share=False` in `launch()` explicitly).\n",
            "\n",
            "Colab notebook detected. To show errors in colab notebook, set debug=True in launch()\n",
            "Running on public URL: https://fa3d81400c14e5579e.gradio.live\n",
            "\n",
            "This share link expires in 72 hours. For free permanent hosting and GPU upgrades, run `gradio deploy` from Terminal to deploy to Spaces (https://huggingface.co/spaces)\n"
          ]
        },
        {
          "data": {
            "text/html": [
              "<div><iframe src=\"https://fa3d81400c14e5579e.gradio.live\" width=\"100%\" height=\"500\" allow=\"autoplay; camera; microphone; clipboard-read; clipboard-write;\" frameborder=\"0\" allowfullscreen></iframe></div>"
            ],
            "text/plain": [
              "<IPython.core.display.HTML object>"
            ]
          },
          "metadata": {},
          "output_type": "display_data"
        },
        {
          "data": {
            "text/plain": []
          },
          "execution_count": 18,
          "metadata": {},
          "output_type": "execute_result"
        }
      ],
      "source": [
        "from langchain.chat_models import ChatOpenAI\n",
        "from langchain.schema import AIMessage, HumanMessage\n",
        "import openai\n",
        "import gradio as gr\n",
        "\n",
        "def predict(message, history):\n",
        "    return rag_chain.invoke({\"input\":message})\n",
        "\n",
        "gr.ChatInterface(predict).launch()"
      ]
    },
    {
      "cell_type": "code",
      "execution_count": null,
      "metadata": {
        "id": "hGqC94J7qSEn"
      },
      "outputs": [],
      "source": [
        "from langsmith import Client\n",
        "\n",
        "client = Client()"
      ]
    },
    {
      "cell_type": "code",
      "execution_count": null,
      "metadata": {
        "colab": {
          "base_uri": "https://localhost:8080/",
          "height": 211
        },
        "id": "2EbuuZNMqTRk",
        "outputId": "76d106d0-d5b0-4d3c-b62e-c095ea1f943f"
      },
      "outputs": [
        {
          "ename": "NameError",
          "evalue": "name 'examples' is not defined",
          "output_type": "error",
          "traceback": [
            "\u001b[0;31m---------------------------------------------------------------------------\u001b[0m",
            "\u001b[0;31mNameError\u001b[0m                                 Traceback (most recent call last)",
            "\u001b[0;32m<ipython-input-20-dd0b51279aa4>\u001b[0m in \u001b[0;36m<cell line: 6>\u001b[0;34m()\u001b[0m\n\u001b[1;32m      4\u001b[0m \u001b[0mdataset_name\u001b[0m \u001b[0;34m=\u001b[0m \u001b[0;34mf\"PillPal QA {str(uuid.uuid4())}\"\u001b[0m\u001b[0;34m\u001b[0m\u001b[0;34m\u001b[0m\u001b[0m\n\u001b[1;32m      5\u001b[0m \u001b[0mdataset\u001b[0m \u001b[0;34m=\u001b[0m \u001b[0mclient\u001b[0m\u001b[0;34m.\u001b[0m\u001b[0mcreate_dataset\u001b[0m\u001b[0;34m(\u001b[0m\u001b[0mdataset_name\u001b[0m\u001b[0;34m=\u001b[0m\u001b[0mdataset_name\u001b[0m\u001b[0;34m,\u001b[0m \u001b[0mdata_type\u001b[0m\u001b[0;34m=\u001b[0m\u001b[0mls_schemas\u001b[0m\u001b[0;34m.\u001b[0m\u001b[0mDataType\u001b[0m\u001b[0;34m.\u001b[0m\u001b[0mllm\u001b[0m\u001b[0;34m)\u001b[0m\u001b[0;34m\u001b[0m\u001b[0;34m\u001b[0m\u001b[0m\n\u001b[0;32m----> 6\u001b[0;31m \u001b[0;32mfor\u001b[0m \u001b[0mq\u001b[0m\u001b[0;34m,\u001b[0m \u001b[0ma\u001b[0m \u001b[0;32min\u001b[0m \u001b[0mexamples\u001b[0m\u001b[0;34m:\u001b[0m\u001b[0;34m\u001b[0m\u001b[0;34m\u001b[0m\u001b[0m\n\u001b[0m\u001b[1;32m      7\u001b[0m     client.create_example(\n\u001b[1;32m      8\u001b[0m         \u001b[0minputs\u001b[0m\u001b[0;34m=\u001b[0m\u001b[0;34m{\u001b[0m\u001b[0;34m\"input\"\u001b[0m\u001b[0;34m:\u001b[0m \u001b[0mq\u001b[0m\u001b[0;34m}\u001b[0m\u001b[0;34m,\u001b[0m \u001b[0moutputs\u001b[0m\u001b[0;34m=\u001b[0m\u001b[0;34m{\u001b[0m\u001b[0;34m\"output\"\u001b[0m\u001b[0;34m:\u001b[0m \u001b[0ma\u001b[0m\u001b[0;34m}\u001b[0m\u001b[0;34m,\u001b[0m \u001b[0mdataset_id\u001b[0m\u001b[0;34m=\u001b[0m\u001b[0mdataset\u001b[0m\u001b[0;34m.\u001b[0m\u001b[0mid\u001b[0m\u001b[0;34m\u001b[0m\u001b[0;34m\u001b[0m\u001b[0m\n",
            "\u001b[0;31mNameError\u001b[0m: name 'examples' is not defined"
          ]
        }
      ],
      "source": [
        "import uuid\n",
        "from langsmith import schemas as ls_schemas\n",
        "\n",
        "dataset_name = f\"PillPal QA {str(uuid.uuid4())}\"\n",
        "dataset = client.create_dataset(dataset_name=dataset_name, data_type=ls_schemas.DataType.llm)\n",
        "for q, a in examples:\n",
        "    client.create_example(\n",
        "        inputs={\"input\": q}, outputs={\"output\": a}, dataset_id=dataset.id\n",
        "    )"
      ]
    },
    {
      "cell_type": "code",
      "execution_count": null,
      "metadata": {
        "id": "vMe1SzrvrKMs"
      },
      "outputs": [],
      "source": [
        "from langchain.smith import RunEvalConfig\n",
        "from langchain_openai import ChatOpenAI\n",
        "\n",
        "eval_config = RunEvalConfig(\n",
        "    evaluators=[\"qa\"],\n",
        "    eval_llm=ChatOpenAI(model_name=\"gpt-4\", openai_api_key=userdata.get('OPENAI_API_KEY'))\n",
        ")"
      ]
    },
    {
      "cell_type": "markdown",
      "metadata": {
        "id": "nd_6YQfQsvgw"
      },
      "source": [
        "Let's run the evaluation on the dataset. You get the links to where you can track the run and at the end the output is also printed here."
      ]
    },
    {
      "cell_type": "code",
      "execution_count": null,
      "metadata": {
        "colab": {
          "base_uri": "https://localhost:8080/"
        },
        "collapsed": true,
        "id": "YtKhdYCZsyKz",
        "outputId": "26cf9a11-be40-4332-abb1-279b5812cc3c"
      },
      "outputs": [
        {
          "name": "stdout",
          "output_type": "stream",
          "text": [
            "View the evaluation results for project 'stupendous-music-80' at:\n",
            "https://smith.langchain.com/o/65a89521-d351-585d-80e0-b5c278d2180b/datasets/c1126ec2-01d9-4d3b-93d5-34e4c515b5a0/compare?selectedSessions=39f6f667-2b27-4fbb-8d96-d66880ae76cc\n",
            "\n",
            "View all tests for Dataset PillPal QA 6610cee9-070c-43c9-b1db-bede57fe8651 at:\n",
            "https://smith.langchain.com/o/65a89521-d351-585d-80e0-b5c278d2180b/datasets/c1126ec2-01d9-4d3b-93d5-34e4c515b5a0\n",
            "[------------------------------------------------->] 10/10"
          ]
        },
        {
          "data": {
            "text/plain": [
              "{'project_name': 'stupendous-music-80',\n",
              " 'results': {'f38cd15c-282e-43cf-8fda-f388aeff83f2': {'input': {'input': 'What should I do if I miss a dose?'},\n",
              "   'feedback': [EvaluationResult(key='correctness', score=1, value='CORRECT', comment='CORRECT', correction=None, evaluator_info={'__run': RunInfo(run_id=UUID('037d4c11-bd78-43c1-ac34-50dfce454165'))}, feedback_config=None, source_run_id=None, target_run_id=None)],\n",
              "   'execution_time': 2.173642,\n",
              "   'run_id': 'dee089a2-dffa-4ac7-b719-638e81f7dd0f',\n",
              "   'output': \"If you forget to take Cetirizine Hydrochloride Tablets, do not take a double dose to make up for the missed dose. Instead, take the missed tablet as soon as you remember, but wait at least 24 hours before taking your next tablet. It's important to follow this guidance to avoid any potential risks or side effects associated with taking too much of the medication. If you have any concerns or questions about missed doses or your medication regimen, it's best to consult your doctor or pharmacist for further advice.\",\n",
              "   'reference': {'output': 'Please do not take a double dose to make up for a forgotten dose. If you forget to take a tablet, you should take one as soon as you remember, but wait at least 24 hours before taking your next tablet.'}},\n",
              "  'ef3f59ba-257a-4b9e-a2b7-7a50042ffa1c': {'input': {'input': 'How should this medication be taken?'},\n",
              "   'feedback': [EvaluationResult(key='correctness', score=1, value='CORRECT', comment='CORRECT', correction=None, evaluator_info={'__run': RunInfo(run_id=UUID('b37cbe56-7b51-45ef-a726-f1844c3f51b7'))}, feedback_config=None, source_run_id=None, target_run_id=None)],\n",
              "   'execution_time': 3.930642,\n",
              "   'run_id': '6df1e2a3-7891-4990-9419-98ce82995681',\n",
              "   'output': 'To take Cetirizine Hydrochloride Tablets, adults, elderly patients, and children 12 years and over should take 10 mg once daily as one tablet daily. If the tablets make you feel drowsy or dizzy, taking half a tablet twice a day may be better than taking one tablet once a day. For children aged 6 to 12 years, the recommended dose is half a tablet twice daily. Children under 6 years should not take this medication. Patients with moderate renal impairment are recommended to take 5 mg once daily, and those with severe kidney problems should consult their doctor or pharmacist for appropriate dosing adjustments. If you feel that the effect of the medication is too weak or too strong, consult your doctor. Always swallow the tablets with water and do not exceed one tablet per day. If you forget to take a tablet, take one as soon as you remember, but wait at least 24 hours before taking the next dose. If you have any further questions on the use of this medicine, ask your doctor or pharmacist.',\n",
              "   'reference': {'output': 'The tablet should be swallowed with water.'}},\n",
              "  '69d718ac-edd4-46f2-abde-df276b3b1283': {'input': {'input': 'How long can I take the medication?'},\n",
              "   'feedback': [EvaluationResult(key='correctness', score=1, value='CORRECT', comment='CORRECT', correction=None, evaluator_info={'__run': RunInfo(run_id=UUID('dc0bcee7-a59a-4834-ae3d-1189c618df84'))}, feedback_config=None, source_run_id=None, target_run_id=None)],\n",
              "   'execution_time': 1.92345,\n",
              "   'run_id': '74dcbfea-0591-4913-8679-21c08a4cf942',\n",
              "   'output': 'The duration of treatment with Cetirizine Hydrochloride Tablets depends on the type, duration, and course of your complaints. It is recommended to ask your doctor or pharmacist for advice regarding how long you can take the medication. It is important to follow their guidance on the duration of treatment to ensure safe and effective use of the medication.',\n",
              "   'reference': {'output': 'The duration of the treatment depends on the type, duration and course of your complaints and you must ask the doctor or pharmacist for advice.'}},\n",
              "  'e1ac3e6b-2857-440b-9260-02598c3ea7cc': {'input': {'input': 'Can I take it if I have Diabetes?'},\n",
              "   'feedback': [EvaluationResult(key='correctness', score=1, value='CORRECT', comment='CORRECT', correction=None, evaluator_info={'__run': RunInfo(run_id=UUID('67eef4c5-1f32-484c-8ef8-a340a4e2f337'))}, feedback_config=None, source_run_id=None, target_run_id=None)],\n",
              "   'execution_time': 2.00494,\n",
              "   'run_id': 'c3bf2b0a-82ac-4c1b-b792-e0294d062511',\n",
              "   'output': 'Based on the information provided in the leaflet for Cetirizine Hydrochloride Tablets, it is recommended to consult with a doctor before taking this medicine if you have diabetes. While the leaflet does not specifically mention diabetes as a contraindication, it is always best to seek medical advice before starting any new medication, especially if you have a pre-existing medical condition like diabetes. Your doctor can provide personalized guidance based on your individual health status and medication regimen.',\n",
              "   'reference': {'output': 'I am unable to answer this question based on the information provided.'}},\n",
              "  '79cf404a-20e7-4ade-a798-62845c33cafe': {'input': {'input': 'What are the side effects?'},\n",
              "   'feedback': [EvaluationResult(key='correctness', score=1, value='CORRECT', comment='CORRECT', correction=None, evaluator_info={'__run': RunInfo(run_id=UUID('07b5f94d-0a5b-4630-969b-071c48908d31'))}, feedback_config=None, source_run_id=None, target_run_id=None)],\n",
              "   'execution_time': 4.594349,\n",
              "   'run_id': '5a48ce59-702e-435f-8254-a906714be8a2',\n",
              "   'output': \"The possible side effects of Cetirizine Hydrochloride Tablets include:\\n\\nCommon side effects (may affect up to 1 in 10 patients):\\n- Somnolence (sleepiness)\\n- Dizziness, headache\\n- Diarrhoea, nausea, dry mouth\\n- Fatigue\\n- Pharyngitis, cold-like symptoms\\n\\nUncommon side effects (may affect up to 1 in 100 patients):\\n- Feeling agitated\\n- Paresthesia (abnormal feelings of the skin)\\n- Abdominal pain\\n- Pruritus (itchy skin), rash\\n- Asthenia (extreme fatigue), malaise (feeling generally unwell)\\n\\nRare side effects (may affect up to 1 in 1000 patients):\\n- Depression, hallucination (hearing or seeing things), aggression, confusion, sleeplessness\\n- Convulsions\\n- Tachycardia (heart beating too fast)\\n- Liver function abnormal\\n- Urticaria (hives)\\n- Oedema (generalised swelling due to water retention)\\n- Weight increased\\n\\nVery rare side effects (may affect up to 1 in 10,000 patients):\\n- Low levels of blood platelets causing unusual bleeding or bruising\\n- Tics (habit spasm)\\n\\nRemember, if you experience any side effects while taking Cetirizine Hydrochloride Tablets, it's important to talk to your doctor, pharmacist, or nurse.\",\n",
              "   'reference': {'output': 'The most common side effects are Somnolence (sleepiness), Dizziness or headache, diarrhoea, nausea, dry mouth, Fatigue. One may observe Pharyngitis or cold like symptoms of the nose in children. While there are other ways to connect, environment variables tend to be the simplest way to configure your application.'}},\n",
              "  '6447902b-258f-48bb-a855-258686468c91': {'input': {'input': 'Can I take it along with Magnesium supplements?'},\n",
              "   'feedback': [EvaluationResult(key='correctness', score=1, value='CORRECT', comment='CORRECT', correction=None, evaluator_info={'__run': RunInfo(run_id=UUID('6d8551f9-4284-4459-918f-6f67ab8acae7'))}, feedback_config=None, source_run_id=None, target_run_id=None)],\n",
              "   'execution_time': 1.421456,\n",
              "   'run_id': '339c1a92-03fe-4e25-bac7-34da5eb6f5d7',\n",
              "   'output': 'Based on the information provided in the leaflet for Cetirizine Hydrochloride Tablets, there is no specific mention of interactions with Magnesium supplements. It is always recommended to consult with your doctor or pharmacist before taking any new medication or supplement to ensure there are no potential interactions or adverse effects. If you have any concerns about taking Cetirizine along with Magnesium supplements, it is best to seek advice from a healthcare professional.',\n",
              "   'reference': {'output': 'I am unable to answer this question based on the information provided.'}},\n",
              "  'a6d2bc93-93f1-4472-9483-ba61cff1c254': {'input': {'input': 'What is the recommended dosage?'},\n",
              "   'feedback': [EvaluationResult(key='correctness', score=1, value='CORRECT', comment='CORRECT', correction=None, evaluator_info={'__run': RunInfo(run_id=UUID('7ac59854-4d3c-4ebc-bb27-b5ec9e6cd26c'))}, feedback_config=None, source_run_id=None, target_run_id=None)],\n",
              "   'execution_time': 2.677415,\n",
              "   'run_id': 'f86498e5-8b38-49e6-82e1-71afac5d8100',\n",
              "   'output': 'The recommended dosage of Cetirizine Hydrochloride Tablets for adults, elderly patients, and children 12 years and over is 10 mg once daily as one tablet daily. If the tablets make you feel drowsy or dizzy, taking half a tablet twice a day may be better than taking one tablet once a day. For children aged 6 to 12 years, the recommended dosage is half a tablet twice daily. Children under 6 years should not take this medication. Patients with moderate renal impairment are recommended to take 5 mg once daily. It is important to consult your doctor or pharmacist for appropriate dosing if you have severe kidney problems or liver and kidney problems together. If your child suffers from kidney disease, the dose may need to be adjusted based on their needs. If you feel that the effect of the medication is too weak or too strong, consult your doctor for guidance.',\n",
              "   'reference': {'output': '\\n        For adults, elderly patients and children 12 years and over, the recommended dose is 10 mg once daily as one tablet daily.\\n        For children between 6 to 12 years old, it is half a tablet twice daily.\\n        For children below 6 years of age, it is not recommended to take this medicine.\\n        '}},\n",
              "  '3aa405ca-dfce-4fea-af4a-2b1397d6f35d': {'input': {'input': 'How long does it take to start acting?'},\n",
              "   'feedback': [EvaluationResult(key='correctness', score=1, value='CORRECT', comment='CORRECT', correction=None, evaluator_info={'__run': RunInfo(run_id=UUID('a86f3b2f-5072-4e63-b24e-e3c04f413b11'))}, feedback_config=None, source_run_id=None, target_run_id=None)],\n",
              "   'execution_time': 1.693089,\n",
              "   'run_id': 'e5911079-b797-44ef-a6c6-fd47777302d4',\n",
              "   'output': 'The leaflet does not specify an exact time frame for how long it takes for Cetirizine Hydrochloride Tablets to start acting. The effectiveness of the medication may vary depending on individual factors such as the type, duration, and course of your symptoms. It is recommended to consult your doctor or pharmacist for advice on the duration of treatment and when you can expect to see the effects of the medication.',\n",
              "   'reference': {'output': 'I am unable to answer this question based on the information provided.'}},\n",
              "  'ad8e6b5c-b93c-491c-863b-d7a77e72d412': {'input': {'input': 'Can it be given to children?'},\n",
              "   'feedback': [EvaluationResult(key='correctness', score=1, value='CORRECT', comment='CORRECT', correction=None, evaluator_info={'__run': RunInfo(run_id=UUID('136c5e0f-7c44-4bca-9e3f-f823da6f8e8d'))}, feedback_config=None, source_run_id=None, target_run_id=None)],\n",
              "   'execution_time': 1.874233,\n",
              "   'run_id': '57be9298-4a9d-4464-a95c-b10028dee903',\n",
              "   'output': \"Children under 6 years old should not be given Cetirizine Hydrochloride Tablets. It is recommended to consult with a doctor or pharmacist for children's appropriate medication options.\",\n",
              "   'reference': {'output': 'No, it should be taken by children aged less than 6 years old. Children above the age of 6 must follow the prescribed dosage - half a tablet twice daily for children between 6 and 12 years.'}},\n",
              "  '2108c3c4-c352-41c9-ba03-ca908a60790e': {'input': {'input': 'Can it be taken by pregnant women?'},\n",
              "   'feedback': [EvaluationResult(key='correctness', score=1, value='CORRECT', comment='CORRECT', correction=None, evaluator_info={'__run': RunInfo(run_id=UUID('529dee97-9bfe-4805-a3d4-268b3a8e040a'))}, feedback_config=None, source_run_id=None, target_run_id=None)],\n",
              "   'execution_time': 1.5775,\n",
              "   'run_id': '33dbdefe-17b1-4de1-b32f-3a2412526846',\n",
              "   'output': 'Cetirizine Hydrochloride Tablets should be avoided in pregnant women. If a pregnant woman accidentally uses the drug, it should not produce harmful effects on the fetus. However, it is recommended to only administer the medicine if necessary and after medical advice. Therefore, pregnant women should consult their doctor before taking this medicine.',\n",
              "   'reference': {'output': 'No, it should not be taken by pregnant women before seeking the doctors advice.'}}},\n",
              " 'aggregate_metrics': None}"
            ]
          },
          "execution_count": 19,
          "metadata": {},
          "output_type": "execute_result"
        }
      ],
      "source": [
        "client.run_on_dataset(\n",
        "    dataset_name=dataset_name,\n",
        "    llm_or_chain_factory=lambda: rag_chain,\n",
        "    evaluation=eval_config,\n",
        ")"
      ]
    }
  ],
  "metadata": {
    "colab": {
      "provenance": []
    },
    "kernelspec": {
      "display_name": "Python 3",
      "name": "python3"
    },
    "language_info": {
      "name": "python"
    }
  },
  "nbformat": 4,
  "nbformat_minor": 0
}
